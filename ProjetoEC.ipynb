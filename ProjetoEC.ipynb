{
 "cells": [
  {
   "attachments": {},
   "cell_type": "markdown",
   "metadata": {},
   "source": [
    "# Projet 1 - Classification Model\n",
    "\n",
    "### Projet made by :\n",
    "\n",
    "#### \n",
    "* Cosmin Trandafir - 57101\n",
    "* Martim Baptista - 56323\n",
    "* João Serafim - 56376\n",
    "* Martim Paraíba - 56273\n",
    "***"
   ]
  },
  {
   "attachments": {},
   "cell_type": "markdown",
   "metadata": {},
   "source": [
    "### In this project we will use dataset: ***biodegradable_a.cvs*** "
   ]
  },
  {
   "cell_type": "code",
   "execution_count": 38,
   "metadata": {},
   "outputs": [],
   "source": [
    "import pandas as pd\n",
    "\n",
    "#Load biodegradable dataset\n",
    "\n",
    "bio_df = pd.read_csv(\"biodegradable_a.csv\")\n",
    "#bio_df.info()"
   ]
  },
  {
   "attachments": {},
   "cell_type": "markdown",
   "metadata": {},
   "source": [
    "## Generic functions and Imports"
   ]
  },
  {
   "cell_type": "code",
   "execution_count": 39,
   "metadata": {},
   "outputs": [],
   "source": [
    "from sklearn.experimental import enable_iterative_imputer\n",
    "from sklearn.impute import SimpleImputer, KNNImputer, IterativeImputer\n",
    "from sklearn.preprocessing import MinMaxScaler, StandardScaler, Normalizer, PowerTransformer\n",
    "from sklearn.metrics import precision_score, recall_score, f1_score, matthews_corrcoef, confusion_matrix, classification_report, make_scorer\n",
    "from sklearn.linear_model import LogisticRegression\n",
    "from sklearn.model_selection import train_test_split\n",
    "from sklearn.model_selection import cross_val_score\n",
    "import numpy as np\n",
    "import warnings\n",
    "warnings.filterwarnings(\"ignore\")"
   ]
  },
  {
   "attachments": {},
   "cell_type": "markdown",
   "metadata": {},
   "source": [
    "Function that prints classification scores"
   ]
  },
  {
   "cell_type": "code",
   "execution_count": 40,
   "metadata": {},
   "outputs": [],
   "source": [
    "def classification_scores(y_test, y_pred):\n",
    "    # Evaluate the performance of the model using various metrics\n",
    "    print(classification_report(y_test, y_pred, target_names=['RB', 'NRB']))\n",
    "    print(\"The Matthews correlation coefficient is: %7.4f\" % matthews_corrcoef(y_test, y_pred))\n",
    "    print(\"Confusion matrix:\\n\", confusion_matrix(y_test, y_pred))\n"
   ]
  },
  {
   "attachments": {},
   "cell_type": "markdown",
   "metadata": {},
   "source": [
    "Function that returns MCC score(used to compare scalers and imputers combinations)"
   ]
  },
  {
   "cell_type": "code",
   "execution_count": 41,
   "metadata": {},
   "outputs": [],
   "source": [
    "from sklearn.metrics import precision_score, recall_score, f1_score, matthews_corrcoef\n",
    "from sklearn.model_selection import cross_val_score\n",
    "import matplotlib.pyplot as plt\n",
    "\n",
    "# Returns mean crossvalidation score\n",
    "def evaluate_model(imputer_tuple, scaler_tuple, classifier, X_train, X_test, y_train):\n",
    "    imputer = imputer_tuple[1]\n",
    "    # Impute missing values\n",
    "    imputer.fit(X_train)\n",
    "    X_train_imputed = imputer.transform(X_train)\n",
    "    X_test_imputed = imputer.transform(X_test)\n",
    "    \n",
    "    scaler = scaler_tuple[1]\n",
    "    # Scale the test data\n",
    "    scaler.fit(X_train_imputed)\n",
    "    X_train_scaled = scaler.transform(X_train_imputed)\n",
    "    X_test_scaled = scaler.transform(X_test_imputed)\n",
    "    \n",
    "    # Train the classifier\n",
    "    classifier.fit(X_train_scaled, y_train)\n",
    "    preds = classifier.predict(X_test_scaled)\n",
    "    \n",
    "    mcc = matthews_corrcoef(y_test, preds)\n",
    "    \n",
    "    # Compute cross-validation scores\n",
    "    cv_scores = cross_val_score(classifier, X_test_scaled, y_test, cv=10)\n",
    "    mean_cv_score = cv_scores.mean()\n",
    "    \n",
    "    # lines of code that prints the classification scores of each imputer and scaler combination\n",
    "    # MCC\n",
    "    # print(f'\\nImputer: {imputer_tuple[0]} \\nScaler: {scaler_tuple[0]} \\nMCC Score: {mcc}')\n",
    "    # classification_scores(y_test, preds)\n",
    "    # CrossValidation Scores\n",
    "    # print(\"Imputer: {} \\nScaler: {}\\nCrossValidationScore: {:.6f}\\n\".format(imputer_tuple[0], scaler_tuple[0], mean_cv_score))\n",
    "    \n",
    "    return mcc\n"
   ]
  },
  {
   "attachments": {},
   "cell_type": "markdown",
   "metadata": {},
   "source": [
    "## Inicialization "
   ]
  },
  {
   "attachments": {},
   "cell_type": "markdown",
   "metadata": {},
   "source": [
    "Encoding the RB and NRB classes to 0 and 1 values"
   ]
  },
  {
   "cell_type": "code",
   "execution_count": 42,
   "metadata": {},
   "outputs": [],
   "source": [
    "from sklearn import preprocessing\n",
    "# Divide Freatures and Class columns for preprocessing\n",
    "X = bio_df.iloc[:, :-1]\n",
    "y = bio_df.iloc[:, -1]\n",
    "\n",
    "# Encode string classes to a numeric value\n",
    "le = preprocessing.LabelEncoder()\n",
    "df_encoded_classes = le.fit_transform(y)\n"
   ]
  },
  {
   "attachments": {},
   "cell_type": "markdown",
   "metadata": {},
   "source": [
    "## Data Imputation and Scaling\n"
   ]
  },
  {
   "attachments": {},
   "cell_type": "markdown",
   "metadata": {},
   "source": [
    "***\n",
    "### Combinations of \n",
    "#### Imputers: \n",
    "- SimpleImputer with mean strategy\n",
    "- SimpleImputer with median strategy\n",
    "- KNNImputer with 3 nearest neighbors\n",
    "- KNNImputer with 5 nearest neighbors\n",
    "- KNNImputer with 7 nearest neighbors\n",
    "- KNNImputer with 9 nearest neighbors\n",
    "- KNNImputer with 11 nearest neighbors\n",
    "- IterativeImputer\n",
    "\n",
    "#### With Scalers:\n",
    "- MinMaxScaler\n",
    "- StandardScaler\n",
    "- Normalizer\n",
    "- PowerTransformer"
   ]
  },
  {
   "cell_type": "code",
   "execution_count": 43,
   "metadata": {},
   "outputs": [],
   "source": [
    "# X_search and y_search will be used to check the best imputer, scaler and selector, \n",
    "# X_final and y_final will be used in the end to test the selected pipeline\n",
    "X_search, X_final, y_search, y_final = train_test_split(X, df_encoded_classes, test_size=0.2, random_state=0)"
   ]
  },
  {
   "cell_type": "code",
   "execution_count": 44,
   "metadata": {},
   "outputs": [
    {
     "name": "stdout",
     "output_type": "stream",
     "text": [
      "\n",
      "Imputer: SimpleImputer = mean \n",
      "Scaler: MinMaxScaler \n",
      "MCC Score: 0.7139481692937144\n",
      "\n",
      "Imputer: SimpleImputer = mean \n",
      "Scaler: StandarScaler \n",
      "MCC Score: 0.7866530628636742\n",
      "\n",
      "Imputer: SimpleImputer = mean \n",
      "Scaler: Normalizer \n",
      "MCC Score: 0.4041416252245304\n",
      "\n",
      "Imputer: SimpleImputer = mean \n",
      "Scaler: PowerTransformer \n",
      "MCC Score: 0.7168420539938234\n",
      "\n",
      "Imputer: SimpleImputer = median \n",
      "Scaler: MinMaxScaler \n",
      "MCC Score: 0.710163310192539\n",
      "\n",
      "Imputer: SimpleImputer = median \n",
      "Scaler: StandarScaler \n",
      "MCC Score: 0.7897663071153472\n",
      "\n",
      "Imputer: SimpleImputer = median \n",
      "Scaler: Normalizer \n",
      "MCC Score: 0.40996730682776716\n",
      "\n",
      "Imputer: SimpleImputer = median \n",
      "Scaler: PowerTransformer \n",
      "MCC Score: 0.7264453487500617\n",
      "\n",
      "Imputer: KNNImputer 3 \n",
      "Scaler: MinMaxScaler \n",
      "MCC Score: 0.7290726351039682\n",
      "\n",
      "Imputer: KNNImputer 3 \n",
      "Scaler: StandarScaler \n",
      "MCC Score: 0.7902383788689807\n",
      "\n",
      "Imputer: KNNImputer 3 \n",
      "Scaler: Normalizer \n",
      "MCC Score: 0.4168800677669201\n",
      "\n",
      "Imputer: KNNImputer 3 \n",
      "Scaler: PowerTransformer \n",
      "MCC Score: 0.7502040198461677\n",
      "\n",
      "Imputer: KNNImputer 5 \n",
      "Scaler: MinMaxScaler \n",
      "MCC Score: 0.7178414057914193\n",
      "\n",
      "Imputer: KNNImputer 5 \n",
      "Scaler: StandarScaler \n",
      "MCC Score: 0.7871598923849003\n",
      "\n",
      "Imputer: KNNImputer 5 \n",
      "Scaler: Normalizer \n",
      "MCC Score: 0.4168800677669201\n",
      "\n",
      "Imputer: KNNImputer 5 \n",
      "Scaler: PowerTransformer \n",
      "MCC Score: 0.7428153831304724\n",
      "\n",
      "Imputer: KNNImputer 7 \n",
      "Scaler: MinMaxScaler \n",
      "MCC Score: 0.7178414057914193\n",
      "\n",
      "Imputer: KNNImputer 7 \n",
      "Scaler: StandarScaler \n",
      "MCC Score: 0.7943219219720465\n",
      "\n",
      "Imputer: KNNImputer 7 \n",
      "Scaler: Normalizer \n",
      "MCC Score: 0.4053231926719744\n",
      "\n",
      "Imputer: KNNImputer 7 \n",
      "Scaler: PowerTransformer \n",
      "MCC Score: 0.7421299553343511\n",
      "\n",
      "Imputer: KNNImputer 9 \n",
      "Scaler: MinMaxScaler \n",
      "MCC Score: 0.7178414057914193\n",
      "\n",
      "Imputer: KNNImputer 9 \n",
      "Scaler: StandarScaler \n",
      "MCC Score: 0.7943219219720465\n",
      "\n",
      "Imputer: KNNImputer 9 \n",
      "Scaler: Normalizer \n",
      "MCC Score: 0.4053231926719744\n",
      "\n",
      "Imputer: KNNImputer 9 \n",
      "Scaler: PowerTransformer \n",
      "MCC Score: 0.7421299553343511\n",
      "\n",
      "Imputer: KNNImputer 11 \n",
      "Scaler: MinMaxScaler \n",
      "MCC Score: 0.714072771841058\n",
      "\n",
      "Imputer: KNNImputer 11 \n",
      "Scaler: StandarScaler \n",
      "MCC Score: 0.7943219219720465\n",
      "\n",
      "Imputer: KNNImputer 11 \n",
      "Scaler: Normalizer \n",
      "MCC Score: 0.4053231926719744\n",
      "\n",
      "Imputer: KNNImputer 11 \n",
      "Scaler: PowerTransformer \n",
      "MCC Score: 0.7361081082754902\n",
      "\n",
      "Imputer: IterativeImputer \n",
      "Scaler: MinMaxScaler \n",
      "MCC Score: 0.714072771841058\n",
      "\n",
      "Imputer: IterativeImputer \n",
      "Scaler: StandarScaler \n",
      "MCC Score: 0.7960729277181063\n",
      "\n",
      "Imputer: IterativeImputer \n",
      "Scaler: Normalizer \n",
      "MCC Score: 0.41838135504316737\n",
      "\n",
      "Imputer: IterativeImputer \n",
      "Scaler: PowerTransformer \n",
      "MCC Score: 0.7428153831304724\n"
     ]
    }
   ],
   "source": [
    "X_train, X_test, y_train, y_test = train_test_split(X_search, y_search, test_size=0.33, random_state=42)\n",
    "# List of imputers to test (imputer_name, imputer)\n",
    "imputers =[(\"SimpleImputer = mean\", SimpleImputer(strategy='mean')), \n",
    "           (\"SimpleImputer = median\", SimpleImputer(strategy='median')), \n",
    "           (\"KNNImputer 3\",KNNImputer(n_neighbors=3)), \n",
    "           (\"KNNImputer 5\",KNNImputer(n_neighbors=5)), \n",
    "           (\"KNNImputer 7\",KNNImputer(n_neighbors=7)), \n",
    "           (\"KNNImputer 9\",KNNImputer(n_neighbors=9)),\n",
    "           (\"KNNImputer 11\",KNNImputer(n_neighbors=11)),\n",
    "           # random state to use same iteration for different runs\n",
    "           (\"IterativeImputer\",IterativeImputer(random_state=0))]\n",
    "\n",
    "# List of scalers to test (scaler_name, scaler)\n",
    "scalers = [(\"MinMaxScaler\",MinMaxScaler()), \n",
    "           (\"StandarScaler\",StandardScaler()), \n",
    "           (\"Normalizer\",Normalizer()), \n",
    "           (\"PowerTransformer\",PowerTransformer())]\n",
    "\n",
    "# List of combinations of imputer and scaler names to user in graph\n",
    "combos = [imputer_name + \" + \" + scaler_name for imputer_name, imputer in imputers for scaler_name, scaler in scalers]\n",
    "\n",
    "# List of MCC scores for every combination of imputers and scalers\n",
    "scores = []\n",
    "\n",
    "for imputer in imputers:\n",
    "    for scaler in scalers:\n",
    "        # Storing scores in list\n",
    "        # random state to use same iteration for different runs\n",
    "        scores.append(evaluate_model(imputer, scaler, LogisticRegression(max_iter=10000, random_state=42), X_train, X_test, y_train))\n"
   ]
  },
  {
   "cell_type": "code",
   "execution_count": 45,
   "metadata": {},
   "outputs": [
    {
     "data": {
      "image/png": "[encoded data removed]",
      "text/plain": [
       "<Figure size 1440x936 with 1 Axes>"
      ]
     },
     "metadata": {
      "needs_background": "light"
     },
     "output_type": "display_data"
    }
   ],
   "source": [
    "# figsize to adjust size \n",
    "fig, ax = plt.subplots(figsize=(20, 13))\n",
    "ax.bar(combos, scores)\n",
    "ax.set_title('MCC Scores')\n",
    "\n",
    "# Set boundries for y axis \n",
    "ax.set_ylim([0.4, 0.8])\n",
    "ax.grid(axis='y')\n",
    "\n",
    "# Make labels visible\n",
    "ax.set_xticklabels(combos, rotation=90, ha='center')\n",
    "\n",
    "# Calculate and show line of max score\n",
    "max_score_idx = np.argmax(scores)\n",
    "highest_name, highest_score = combos[max_score_idx], scores[max_score_idx]\n",
    "ax.axhline(y=scores[max_score_idx], color='r', linestyle='--', label='Max score')\n",
    "\n",
    "ax.legend([f'Max score: {highest_name}: {highest_score:.4f}'])\n",
    "\n",
    "plt.show()\n"
   ]
  },
  {
   "attachments": {},
   "cell_type": "markdown",
   "metadata": {},
   "source": [
    "## Feature Selection"
   ]
  },
  {
   "attachments": {},
   "cell_type": "markdown",
   "metadata": {},
   "source": [
    "***\n",
    "### Prepare dataset using best Imputer and Scaler\n",
    " "
   ]
  },
  {
   "cell_type": "code",
   "execution_count": 46,
   "metadata": {},
   "outputs": [],
   "source": [
    "import seaborn as sns\n",
    "from sklearn.metrics import accuracy_score\n",
    "from sklearn.feature_selection import SelectKBest, f_classif\n",
    "from sklearn.decomposition import PCA\n",
    "\n",
    "# Impute missing values\n",
    "imputer = IterativeImputer(random_state=42)\n",
    "X_train_imputed = imputer.fit_transform(X_train)\n",
    "X_test_imputed = imputer.transform(X_test)\n",
    "\n",
    "# Scale features\n",
    "scaler = StandardScaler()\n",
    "X_train_scaled = scaler.fit_transform(X_train_imputed)\n",
    "X_test_scaled = scaler.transform(X_test_imputed)\n",
    "\n"
   ]
  },
  {
   "attachments": {},
   "cell_type": "markdown",
   "metadata": {},
   "source": [
    "***\n",
    "### Pearson Correlation between each feature and target classification"
   ]
  },
  {
   "cell_type": "code",
   "execution_count": 47,
   "metadata": {},
   "outputs": [
    {
     "name": "stdout",
     "output_type": "stream",
     "text": [
      "8 features have a correlation above 0\n"
     ]
    }
   ],
   "source": [
    "# Feature selection using Pearson correlation\n",
    "corr_coef = np.corrcoef(np.hstack((y_train.reshape((-1, 1)), X_train_scaled)).T)\n",
    "\n",
    "#Select features with correlation coeficient above 0 (coeficients between each feature and the classification)\n",
    "corr_features_idx = np.where(corr_coef[0, 1:] > 0)[0]\n",
    "X_train_corr = X_train_scaled[:, corr_features_idx]\n",
    "X_test_corr = X_test_scaled[:, corr_features_idx]\n",
    "\n",
    "\n",
    "print(f'{len(corr_features_idx)} features have a correlation above 0')"
   ]
  },
  {
   "attachments": {},
   "cell_type": "markdown",
   "metadata": {},
   "source": [
    "***\n",
    "### PCA"
   ]
  },
  {
   "cell_type": "code",
   "execution_count": 48,
   "metadata": {},
   "outputs": [
    {
     "data": {
      "image/png": "[encoded data removed]",
      "text/plain": [
       "<Figure size 432x288 with 1 Axes>"
      ]
     },
     "metadata": {
      "needs_background": "light"
     },
     "output_type": "display_data"
    }
   ],
   "source": [
    "# Feature selection using PCA\n",
    "\n",
    "# Define the range of number of components to test\n",
    "n_components_range = range(1, 41)\n",
    "\n",
    "# Evaluate the models using logistic regression with MCC score\n",
    "lr = LogisticRegression(random_state=42)\n",
    "mcc_scores = []\n",
    "for n_components in n_components_range:\n",
    "    # Feature selection using PCA\n",
    "    pca = PCA(n_components=n_components)\n",
    "    pca.fit(X_train_scaled)\n",
    "    X_train_pca = pca.transform(X_train_scaled)\n",
    "    X_test_pca = pca.transform(X_test_scaled)\n",
    "\n",
    "    lr.fit(X_train_pca, y_train)\n",
    "    y_pred = lr.predict(X_test_pca)\n",
    "    mcc = matthews_corrcoef(y_test, y_pred)\n",
    "    mcc_scores.append(mcc)\n",
    "    \n",
    "# Find the best value of n_components based on MCC score\n",
    "best_n_components = n_components_range[np.argmax(mcc_scores)]\n",
    "\n",
    "# Plot the results\n",
    "plt.plot(n_components_range, mcc_scores)\n",
    "plt.xlabel('Number of components')\n",
    "plt.ylabel('F1 score')\n",
    "plt.title('PCA feature selection')\n",
    "plt.axvline(best_n_components, linestyle='--', color='r', label=f'Best n_components={best_n_components}')\n",
    "plt.legend()\n",
    "plt.show()\n",
    "\n",
    "\n",
    "# Feature selection using PCA with optimal value of components\n",
    "pca = PCA(n_components=best_n_components)\n",
    "pca.fit(X_train_scaled)\n",
    "X_train_pca = pca.transform(X_train_scaled)\n",
    "X_test_pca = pca.transform(X_test_scaled)\n"
   ]
  },
  {
   "attachments": {},
   "cell_type": "markdown",
   "metadata": {},
   "source": [
    "***\n",
    "### SelectKBest"
   ]
  },
  {
   "cell_type": "code",
   "execution_count": 49,
   "metadata": {},
   "outputs": [
    {
     "data": {
      "image/png": "[encoded data removed]",
      "text/plain": [
       "<Figure size 432x288 with 1 Axes>"
      ]
     },
     "metadata": {
      "needs_background": "light"
     },
     "output_type": "display_data"
    }
   ],
   "source": [
    "# Feature selection using SelectKBest \n",
    "\n",
    "# Define the range of number of components to test\n",
    "n_components_range = range(1, 41)\n",
    "\n",
    "# Evaluate the models using logistic regression with MCC score\n",
    "lr = LogisticRegression(random_state=42)\n",
    "mcc_scores = []\n",
    "for n_components in n_components_range:\n",
    "    # Feature selection using PCA\n",
    "    kbest = SelectKBest(f_classif, k=n_components)\n",
    "    kbest.fit(X_train_scaled, y_train)\n",
    "    X_train_kbest = kbest.transform(X_train_scaled)\n",
    "    X_test_kbest = kbest.transform(X_test_scaled)\n",
    "\n",
    "    lr.fit(X_train_kbest, y_train)\n",
    "    y_pred = lr.predict(X_test_kbest)\n",
    "    mcc = matthews_corrcoef(y_test, y_pred)\n",
    "    mcc_scores.append(mcc)\n",
    "    \n",
    "# Find the best value of n_components based on MCC score\n",
    "best_n_components = n_components_range[np.argmax(mcc_scores)]\n",
    "\n",
    "# Plot the results\n",
    "plt.plot(n_components_range, mcc_scores)\n",
    "plt.xlabel('Number of components')\n",
    "plt.ylabel('MCC score')\n",
    "plt.title('SelectKBest feature selection')\n",
    "plt.axvline(best_n_components, linestyle='--', color='r', label=f'Best n_components={best_n_components}')\n",
    "plt.legend()\n",
    "plt.show()\n",
    "\n",
    "kbest = SelectKBest(f_classif, k=best_n_components)\n",
    "kbest.fit(X_train_scaled, y_train)\n",
    "X_train_kbest = kbest.transform(X_train_scaled)\n",
    "X_test_kbest = kbest.transform(X_test_scaled)"
   ]
  },
  {
   "attachments": {},
   "cell_type": "markdown",
   "metadata": {},
   "source": [
    "***\n",
    "### SequentialFeatureSelection"
   ]
  },
  {
   "cell_type": "code",
   "execution_count": 51,
   "metadata": {},
   "outputs": [
    {
     "data": {
      "image/png": "[encoded data removed]",
      "text/plain": [
       "<Figure size 432x288 with 1 Axes>"
      ]
     },
     "metadata": {
      "needs_background": "light"
     },
     "output_type": "display_data"
    }
   ],
   "source": [
    "from sklearn.feature_selection import SequentialFeatureSelector\n",
    "# Define a range of the number of features to consider(for performance purpose)\n",
    "n_features_range = [10, 15, 20, 25, 30, 35, 40]\n",
    "\n",
    "# Create an empty list to store the average cross-validation scores\n",
    "mcc_scores = []\n",
    "scorer = make_scorer(matthews_corrcoef)\n",
    "\n",
    "clf = LogisticRegression(random_state=42, max_iter=10000)\n",
    "\n",
    "# Iterate over the number of features and perform cross-validation for each number of features\n",
    "for n_features in n_features_range:\n",
    "    sfs = SequentialFeatureSelector(clf, n_features_to_select=n_features, scoring=scorer)\n",
    "    sfs.fit(X_train_scaled, y_train)\n",
    "    X_train_sfs = sfs.transform(X_train_scaled)\n",
    "    X_test_sfs = sfs.transform(X_test_scaled)\n",
    "    clf.fit(X_train_sfs, y_train)\n",
    "    y_pred_sfs = clf.predict(X_test_sfs)\n",
    "    mcc = matthews_corrcoef(y_pred_sfs, y_test)\n",
    "    mcc_scores.append(mcc)\n",
    "    \n",
    "\n",
    "# Find the best value of n_components based on MCC score\n",
    "best_n_components = n_features_range[np.argmax(mcc_scores)]\n",
    "\n",
    "# Plot the average cross-validation scores against the number of features\n",
    "plt.plot(n_features_range, mcc_scores)\n",
    "plt.xlabel('Number of Features')\n",
    "plt.ylabel('Average  MCC Score')\n",
    "plt.title('SequentialFeatureSelection')\n",
    "plt.axvline(best_n_components, linestyle='--', color='r', label=f'Best n_components={best_n_components}')\n",
    "plt.legend()\n",
    "plt.show()\n"
   ]
  },
  {
   "cell_type": "code",
   "execution_count": 52,
   "metadata": {},
   "outputs": [],
   "source": [
    "#Optimal number of features is 35\n",
    "sfs = SequentialFeatureSelector(clf, n_features_to_select=35, scoring=scorer)\n",
    "sfs.fit(X_train_scaled, y_train)\n",
    "X_train_sfs = sfs.transform(X_train_scaled)\n",
    "X_test_sfs = sfs.transform(X_test_scaled)"
   ]
  },
  {
   "attachments": {},
   "cell_type": "markdown",
   "metadata": {},
   "source": [
    "***\n",
    "### Checking the best MCC score for the selectors\n",
    "Also compared with no feature selection\n"
   ]
  },
  {
   "cell_type": "code",
   "execution_count": 53,
   "metadata": {},
   "outputs": [
    {
     "name": "stdout",
     "output_type": "stream",
     "text": [
      "Without feature selectors: MCC score = 0.7961\n",
      "Pearson with: MCC score = 0.2142\n",
      "PCA with: MCC score = 0.8057\n",
      "SelectKBest with: MCC score = 0.7929\n",
      "SequentialFeatureSelection with: MCC score = 0.8060\n"
     ]
    }
   ],
   "source": [
    "# Evaluate the models using logistic regression with MCC score\n",
    "lr = LogisticRegression(random_state=42)\n",
    "models = [(\"Pearson\", X_train_corr, X_test_corr),\n",
    "          (\"PCA\", X_train_pca, X_test_pca),\n",
    "          (\"SelectKBest\", X_train_kbest, X_test_kbest),\n",
    "          (\"SequentialFeatureSelection\", X_train_sfs, X_test_sfs)]\n",
    "\n",
    "# Printing MCC score without feature selectors\n",
    "lr.fit(X_train_scaled, y_train)\n",
    "y_pred = lr.predict(X_test_scaled)\n",
    "mcc = matthews_corrcoef(y_test, y_pred)\n",
    "print(f\"Without feature selectors: MCC score = {mcc:.4f}\")\n",
    "\n",
    "# Printing MCC scores for feature selectors\n",
    "for name, X_train_fs, X_test_fs in models:\n",
    "    lr.fit(X_train_fs, y_train)\n",
    "    y_pred = lr.predict(X_test_fs)\n",
    "    mcc = matthews_corrcoef(y_test, y_pred)\n",
    "    print(f\"{name} with: MCC score = {mcc:.4f}\")"
   ]
  },
  {
   "attachments": {},
   "cell_type": "markdown",
   "metadata": {},
   "source": [
    "***\n",
    "### Now onto selecting the best model"
   ]
  },
  {
   "cell_type": "code",
   "execution_count": 54,
   "metadata": {},
   "outputs": [],
   "source": [
    "from sklearn.ensemble import RandomForestClassifier\n",
    "from sklearn.svm import SVC\n",
    "\n",
    "# Best Imputer, Scaler and Selector \n",
    "imputer = IterativeImputer(random_state=42)\n",
    "scaler = StandardScaler()\n",
    "selector = SequentialFeatureSelector(clf, n_features_to_select=35, scoring=scorer)\n",
    "\n",
    "# Impute missing values\n",
    "X_train_imputed = imputer.fit_transform(X_train)\n",
    "X_test_imputed = imputer.transform(X_test)\n",
    "\n",
    "# Scale features\n",
    "X_train_scaled = scaler.fit_transform(X_train_imputed)\n",
    "X_test_scaled = scaler.transform(X_test_imputed)\n",
    "\n",
    "# Feature selection \n",
    "selector.fit(X_train_scaled, y_train)\n",
    "X_train_kbest = selector.transform(X_train_scaled)\n",
    "X_test_kbest = selector.transform(X_test_scaled)\n"
   ]
  },
  {
   "cell_type": "code",
   "execution_count": 55,
   "metadata": {},
   "outputs": [
    {
     "name": "stdout",
     "output_type": "stream",
     "text": [
      "Best hyperparameters: {'criterion': 'entropy', 'max_depth': 6, 'min_samples_leaf': 4, 'min_samples_split': 2}\n",
      "\n",
      "\n",
      "              precision    recall  f1-score   support\n",
      "\n",
      "          RB       0.85      0.76      0.80       189\n",
      "         NRB       0.96      0.98      0.97      1016\n",
      "\n",
      "    accuracy                           0.94      1205\n",
      "   macro avg       0.90      0.87      0.88      1205\n",
      "weighted avg       0.94      0.94      0.94      1205\n",
      "\n",
      "The Matthews correlation coefficient is:  0.7685\n",
      "Confusion matrix:\n",
      " [[143  46]\n",
      " [ 25 991]]\n"
     ]
    }
   ],
   "source": [
    "from sklearn.model_selection import GridSearchCV\n",
    "from sklearn.tree import DecisionTreeClassifier\n",
    "\n",
    "# Define decision tree classifier\n",
    "dtc = DecisionTreeClassifier(random_state=42)\n",
    "\n",
    "# Define grid of hyperparameters to test\n",
    "param_grid = {\n",
    "    'criterion': ['gini', 'entropy'],\n",
    "    'max_depth': [2, 4, 6, 8, 10],\n",
    "    'min_samples_split': [2, 4, 6, 8, 10],\n",
    "    'min_samples_leaf': [1, 2, 3, 4, 5]\n",
    "}\n",
    "\n",
    "# Perform grid search with cross-validation\n",
    "scorer = make_scorer(matthews_corrcoef)\n",
    "cv = GridSearchCV(dtc, param_grid=param_grid, scoring=scorer, cv=5)\n",
    "cv.fit(X_train_kbest, y_train)\n",
    "\n",
    "# Print the best hyperparameters and performance score\n",
    "print(\"Best hyperparameters:\", cv.best_params_)\n",
    "\n",
    "# Evaluate the model with best hyperparameters on the test set\n",
    "y_pred = cv.predict(X_test_kbest)\n",
    "\n",
    "# Check classification scores\n",
    "print('\\n')\n",
    "classification_scores(y_test, y_pred)"
   ]
  },
  {
   "cell_type": "code",
   "execution_count": 56,
   "metadata": {},
   "outputs": [
    {
     "name": "stdout",
     "output_type": "stream",
     "text": [
      "Best hyperparameters: {'max_depth': 15, 'min_samples_leaf': 1, 'min_samples_split': 5, 'n_estimators': 50}\n",
      "              precision    recall  f1-score   support\n",
      "\n",
      "          RB       0.90      0.83      0.87       189\n",
      "         NRB       0.97      0.98      0.98      1016\n",
      "\n",
      "    accuracy                           0.96      1205\n",
      "   macro avg       0.94      0.91      0.92      1205\n",
      "weighted avg       0.96      0.96      0.96      1205\n",
      "\n",
      "The Matthews correlation coefficient is:  0.8421\n",
      "Confusion matrix:\n",
      " [[157  32]\n",
      " [ 17 999]]\n"
     ]
    }
   ],
   "source": [
    "from sklearn.metrics import classification_report\n",
    "\n",
    "# create a Random Forest classifier object\n",
    "rfc = RandomForestClassifier(random_state=42)\n",
    "\n",
    "# define the parameter grid to search over\n",
    "param_grid = {\n",
    "    'n_estimators': [50, 100, 200],\n",
    "    'max_depth': [5, 10, 15],\n",
    "    'min_samples_split': [2, 5, 10],\n",
    "    'min_samples_leaf': [1, 2, 4]\n",
    "}\n",
    "\n",
    "# create a GridSearchCV object\n",
    "grid_search = GridSearchCV(rfc, param_grid, cv=5, scoring=scorer)\n",
    "\n",
    "# fit the GridSearchCV object to the training data\n",
    "grid_search.fit(X_train_kbest, y_train)\n",
    "\n",
    "# print the best hyperparameters found by GridSearchCV\n",
    "print(\"Best hyperparameters:\", grid_search.best_params_)\n",
    "\n",
    "# make predictions on the test set using the best model\n",
    "best_model = grid_search.best_estimator_\n",
    "y_pred = best_model.predict(X_test_kbest)\n",
    "\n",
    "# Check classification scores\n",
    "classification_scores(y_test, y_pred)"
   ]
  },
  {
   "cell_type": "code",
   "execution_count": 57,
   "metadata": {},
   "outputs": [
    {
     "name": "stdout",
     "output_type": "stream",
     "text": [
      "Best hyperparameters: {'C': 100, 'gamma': 0.1}\n",
      "              precision    recall  f1-score   support\n",
      "\n",
      "          RB       0.90      0.87      0.89       189\n",
      "         NRB       0.98      0.98      0.98      1016\n",
      "\n",
      "    accuracy                           0.97      1205\n",
      "   macro avg       0.94      0.93      0.93      1205\n",
      "weighted avg       0.96      0.97      0.96      1205\n",
      "\n",
      "The Matthews correlation coefficient is:  0.8667\n",
      "Confusion matrix:\n",
      " [[165  24]\n",
      " [ 18 998]]\n"
     ]
    }
   ],
   "source": [
    "# Create a SVC classifier\n",
    "svc = SVC(random_state=42)\n",
    "\n",
    "# define the parameter grid to search over\n",
    "param_grid = {\n",
    "    \"gamma\": [0.0001, 0.001, 0.01, 0.1, 1, 10, 100], \n",
    "    \"C\": [0.01, 0.1, 1, 10, 100, 1000, 10000]\n",
    "    }\n",
    "\n",
    "# fit the GridSearchCV object to the training data\n",
    "grid_search = GridSearchCV(svc, param_grid, cv=5, scoring=scorer)\n",
    "grid_search = grid_search.fit(X_train_kbest, y_train)\n",
    "\n",
    "# print the best hyperparameters found by GridSearchCV\n",
    "print(\"Best hyperparameters:\", grid_search.best_params_)\n",
    "\n",
    "# make predictions on the test set using the best model\n",
    "best_model = grid_search.best_estimator_\n",
    "y_pred = best_model.predict(X_test_kbest)\n",
    "\n",
    "# Check classification scores\n",
    "classification_scores(y_test, y_pred)"
   ]
  },
  {
   "cell_type": "code",
   "execution_count": 58,
   "metadata": {},
   "outputs": [
    {
     "name": "stdout",
     "output_type": "stream",
     "text": [
      "Best hyperparameters: {'C': 10.0, 'max_iter': 500, 'penalty': 'l1', 'solver': 'saga'}\n",
      "              precision    recall  f1-score   support\n",
      "\n",
      "          RB       0.91      0.76      0.83       189\n",
      "         NRB       0.96      0.99      0.97      1016\n",
      "\n",
      "    accuracy                           0.95      1205\n",
      "   macro avg       0.93      0.87      0.90      1205\n",
      "weighted avg       0.95      0.95      0.95      1205\n",
      "\n",
      "The Matthews correlation coefficient is:  0.8060\n",
      "Confusion matrix:\n",
      " [[ 144   45]\n",
      " [  14 1002]]\n"
     ]
    }
   ],
   "source": [
    "# Define the hyperparameters and their possible values\n",
    "hyperparameters = {\n",
    "    'C': [0.1, 1.0, 10.0],  # Regularization strength\n",
    "    'penalty': ['l1', 'l2'],  # Regularization penalty type\n",
    "    'solver': ['liblinear', 'saga'],  # Solver algorithm\n",
    "    'max_iter': [100, 200, 500, 1000, 10000]  # Maximum number of iterations\n",
    "}\n",
    "\n",
    "# Create a logistic regression model\n",
    "logistic_regression = LogisticRegression()\n",
    "\n",
    "# Perform grid search to find the best hyperparameters\n",
    "grid_search = GridSearchCV(logistic_regression, hyperparameters, cv=5, scoring=scorer)\n",
    "grid_search.fit(X_train_kbest, y_train)\n",
    "\n",
    "# Get the best hyperparameters and the corresponding model\n",
    "best_params = grid_search.best_params_\n",
    "best_model = grid_search.best_estimator_\n",
    "\n",
    "# print the best hyperparameters found by GridSearchCV\n",
    "print(\"Best hyperparameters:\", grid_search.best_params_)\n",
    "\n",
    "# Evaluate the best model on the validation set using MCC\n",
    "y_pred = best_model.predict(X_test_kbest)\n",
    "classification_scores(y_test, y_pred)"
   ]
  },
  {
   "cell_type": "code",
   "execution_count": 59,
   "metadata": {},
   "outputs": [
    {
     "name": "stdout",
     "output_type": "stream",
     "text": [
      "Best hyperparameters: {'n_neighbors': 3, 'p': 1, 'weights': 'distance'}\n",
      "              precision    recall  f1-score   support\n",
      "\n",
      "          RB       0.94      0.79      0.86       189\n",
      "         NRB       0.96      0.99      0.98      1016\n",
      "\n",
      "    accuracy                           0.96      1205\n",
      "   macro avg       0.95      0.89      0.92      1205\n",
      "weighted avg       0.96      0.96      0.96      1205\n",
      "\n",
      "The Matthews correlation coefficient is:  0.8365\n",
      "Confusion matrix:\n",
      " [[ 149   40]\n",
      " [  10 1006]]\n"
     ]
    }
   ],
   "source": [
    "from sklearn.neighbors import KNeighborsClassifier\n",
    "#Create a KNN classifier\n",
    "knn = KNeighborsClassifier()\n",
    "\n",
    "# Define the parameter grid to search over\n",
    "param_grid = {\n",
    "    'n_neighbors': [3, 5, 7, 9],\n",
    "    'weights': ['uniform', 'distance'],\n",
    "    'p': [1, 2]\n",
    "}\n",
    "\n",
    "# Create a GridSearchCV object\n",
    "grid_search = GridSearchCV(knn, param_grid, cv=5, scoring=scorer)\n",
    "\n",
    "# Fit the GridSearchCV object to the training data\n",
    "grid_search.fit(X_train_kbest, y_train)\n",
    "\n",
    "# Print the best hyperparameters found by GridSearchCV\n",
    "print(\"Best hyperparameters:\", grid_search.best_params_)\n",
    "\n",
    "# Make predictions on the test set using the best model\n",
    "best_model = grid_search.best_estimator_\n",
    "y_pred = best_model.predict(X_test_kbest)\n",
    "\n",
    "# Check classification scores\n",
    "classification_scores(y_test, y_pred)"
   ]
  },
  {
   "cell_type": "code",
   "execution_count": 60,
   "metadata": {},
   "outputs": [
    {
     "data": {
      "image/png": "[encoded data removed]",
      "text/plain": [
       "<Figure size 576x432 with 1 Axes>"
      ]
     },
     "metadata": {
      "needs_background": "light"
     },
     "output_type": "display_data"
    },
    {
     "name": "stdout",
     "output_type": "stream",
     "text": [
      "The best classifier is SVM, with the MCC score of 0.86665\n"
     ]
    }
   ],
   "source": [
    "# define classifiers\n",
    "classifiers = [('Decision Tree', DecisionTreeClassifier(criterion='entropy', max_depth=8, min_samples_leaf=4, min_samples_split=2, random_state=42)),\n",
    "               ('Random Forest', RandomForestClassifier(max_depth=15, min_samples_leaf=1, min_samples_split=5, n_estimators=50, random_state=42)),\n",
    "               ('SVM', SVC(C=100, gamma=0.1, random_state=42)),\n",
    "               ('Logistic Regression', LogisticRegression(C=10.0, max_iter=500, solver='saga', penalty='l1', random_state=42)),\n",
    "               ('KNN Classifier', KNeighborsClassifier(n_neighbors=3, p=1, weights='distance'))]\n",
    "\n",
    "# evaluate classifiers using precision, recall, f1, and MCC metrics\n",
    "metrics = ['Precision', 'Recall', 'F1', 'MCC']\n",
    "results = pd.DataFrame(columns=metrics, index=[name for name, clf in classifiers])\n",
    "\n",
    "for name, clf in classifiers:\n",
    "    clf.fit(X_train_kbest, y_train)\n",
    "    y_pred = clf.predict(X_test_kbest)\n",
    "    results.loc[name, 'Precision'] = precision_score(y_test, y_pred)\n",
    "    results.loc[name, 'Recall'] = recall_score(y_test, y_pred)\n",
    "    results.loc[name, 'F1'] = f1_score(y_test, y_pred)\n",
    "    results.loc[name, 'MCC'] = matthews_corrcoef(y_test, y_pred)\n",
    "\n",
    "# plot results\n",
    "fig, ax = plt.subplots(figsize=(8, 6))\n",
    "results.plot(kind='bar', ax=ax)\n",
    "ax.set_ylim([0.75, 1.0])\n",
    "ax.set_xlabel('Classifier')\n",
    "ax.set_ylabel('Score')\n",
    "ax.set_title('Classification Metrics')\n",
    "plt.xticks(rotation=0)\n",
    "plt.show()\n",
    "\n",
    "# print best classifier and its F1 score\n",
    "results['MCC'] = results['MCC'].astype(float)\n",
    "best_classifier = results['MCC'].idxmax()\n",
    "best_score = results.loc[best_classifier, 'MCC']\n",
    "print(f'The best classifier is {best_classifier}, with the MCC score of {best_score:.5f}')"
   ]
  },
  {
   "cell_type": "code",
   "execution_count": 61,
   "metadata": {},
   "outputs": [
    {
     "name": "stdout",
     "output_type": "stream",
     "text": [
      "Matthews Correlation Coefficient: 0.8913191125439559\n",
      "Classification Report:\n",
      "              precision    recall  f1-score   support\n",
      "\n",
      "          RB       0.90      0.92      0.91       153\n",
      "         NRB       0.98      0.98      0.98       760\n",
      "\n",
      "    accuracy                           0.97       913\n",
      "   macro avg       0.94      0.95      0.95       913\n",
      "weighted avg       0.97      0.97      0.97       913\n",
      "\n"
     ]
    }
   ],
   "source": [
    "from sklearn.pipeline import Pipeline\n",
    "from sklearn.model_selection import cross_val_predict\n",
    "# Create the pipeline\n",
    "pipeline = Pipeline([\n",
    "    ('imputer', IterativeImputer(random_state=42)),\n",
    "    ('scaler', StandardScaler()),\n",
    "    ('feature_selector', SequentialFeatureSelector(clf, n_features_to_select=35, scoring=scorer)),\n",
    "    ('classifier', SVC(C=100, gamma=0.1, random_state=42))\n",
    "])\n",
    "\n",
    "\n",
    "pipeline.fit(X_search, y_search)\n",
    "y_pred_final = pipeline.predict(X_final)\n",
    "\n",
    "# Calculate Matthews correlation coefficient\n",
    "mcc = matthews_corrcoef(y_final, y_pred_final)\n",
    "print(\"Matthews Correlation Coefficient:\", mcc)\n",
    "\n",
    "# Display classification report\n",
    "report = classification_report(y_final, y_pred_final, target_names=['RB', 'NRB'])\n",
    "print(\"Classification Report:\")\n",
    "print(report)"
   ]
  }
 ],
 "metadata": {
  "kernelspec": {
   "display_name": "Python 3 (ipykernel)",
   "language": "python",
   "name": "python3"
  },
  "language_info": {
   "codemirror_mode": {
    "name": "ipython",
    "version": 3
   },
   "file_extension": ".py",
   "mimetype": "text/x-python",
   "name": "python",
   "nbconvert_exporter": "python",
   "pygments_lexer": "ipython3",
   "version": "3.9.12"
  },
  "orig_nbformat": 4
 },
 "nbformat": 4,
 "nbformat_minor": 2
}
